{
 "cells": [
  {
   "cell_type": "code",
   "execution_count": 1,
   "metadata": {},
   "outputs": [],
   "source": [
    "\n",
    "# -*- coding: utf-8 -*-\n",
    "\"\"\"\n",
    "Created on Mon Aug 17 13:22:30 2020\n",
    "\n",
    "@author: rudym\n",
    "\"\"\"\n",
    "import numpy as np\n",
    "import pandas as pd\n",
    "import matplotlib.pyplot as plt\n",
    "from dfply import *\n",
    "import seaborn as sns #visualisation\n",
    "from sklearn.linear_model import LinearRegression\n",
    "from sklearn.linear_model import LogisticRegression\n",
    "from sklearn.model_selection import train_test_split\n",
    "from sklearn.metrics import r2_score, mean_squared_error\n",
    "%matplotlib inline\n",
    "sns.set(style=\"white\")\n",
    "sns.set(style=\"whitegrid\", color_codes=True)\n",
    "\n"
   ]
  },
  {
   "cell_type": "markdown",
   "metadata": {},
   "source": [
    "# Speed Dating"
   ]
  },
  {
   "cell_type": "markdown",
   "metadata": {},
   "source": [
    "# Loading Data"
   ]
  },
  {
   "cell_type": "code",
   "execution_count": 2,
   "metadata": {},
   "outputs": [
    {
     "data": {
      "text/html": [
       "<div>\n",
       "<style scoped>\n",
       "    .dataframe tbody tr th:only-of-type {\n",
       "        vertical-align: middle;\n",
       "    }\n",
       "\n",
       "    .dataframe tbody tr th {\n",
       "        vertical-align: top;\n",
       "    }\n",
       "\n",
       "    .dataframe thead th {\n",
       "        text-align: right;\n",
       "    }\n",
       "</style>\n",
       "<table border=\"1\" class=\"dataframe\">\n",
       "  <thead>\n",
       "    <tr style=\"text-align: right;\">\n",
       "      <th></th>\n",
       "      <th>respondant</th>\n",
       "      <th>iid</th>\n",
       "      <th>id</th>\n",
       "      <th>gender</th>\n",
       "      <th>idg</th>\n",
       "      <th>condtn</th>\n",
       "      <th>wave</th>\n",
       "      <th>round</th>\n",
       "      <th>position</th>\n",
       "      <th>positin1</th>\n",
       "      <th>...</th>\n",
       "      <th>attr3_3</th>\n",
       "      <th>sinc3_3</th>\n",
       "      <th>intel3_3</th>\n",
       "      <th>fun3_3</th>\n",
       "      <th>amb3_3</th>\n",
       "      <th>attr5_3</th>\n",
       "      <th>sinc5_3</th>\n",
       "      <th>intel5_3</th>\n",
       "      <th>fun5_3</th>\n",
       "      <th>amb5_3</th>\n",
       "    </tr>\n",
       "  </thead>\n",
       "  <tbody>\n",
       "    <tr>\n",
       "      <th>0</th>\n",
       "      <td>1</td>\n",
       "      <td>1</td>\n",
       "      <td>1.0</td>\n",
       "      <td>0</td>\n",
       "      <td>1</td>\n",
       "      <td>1</td>\n",
       "      <td>1</td>\n",
       "      <td>10</td>\n",
       "      <td>7</td>\n",
       "      <td>NaN</td>\n",
       "      <td>...</td>\n",
       "      <td>5.0</td>\n",
       "      <td>7.0</td>\n",
       "      <td>7.0</td>\n",
       "      <td>7.0</td>\n",
       "      <td>7.0</td>\n",
       "      <td>NaN</td>\n",
       "      <td>NaN</td>\n",
       "      <td>NaN</td>\n",
       "      <td>NaN</td>\n",
       "      <td>NaN</td>\n",
       "    </tr>\n",
       "    <tr>\n",
       "      <th>1</th>\n",
       "      <td>2</td>\n",
       "      <td>1</td>\n",
       "      <td>1.0</td>\n",
       "      <td>0</td>\n",
       "      <td>1</td>\n",
       "      <td>1</td>\n",
       "      <td>1</td>\n",
       "      <td>10</td>\n",
       "      <td>7</td>\n",
       "      <td>NaN</td>\n",
       "      <td>...</td>\n",
       "      <td>5.0</td>\n",
       "      <td>7.0</td>\n",
       "      <td>7.0</td>\n",
       "      <td>7.0</td>\n",
       "      <td>7.0</td>\n",
       "      <td>NaN</td>\n",
       "      <td>NaN</td>\n",
       "      <td>NaN</td>\n",
       "      <td>NaN</td>\n",
       "      <td>NaN</td>\n",
       "    </tr>\n",
       "    <tr>\n",
       "      <th>2</th>\n",
       "      <td>3</td>\n",
       "      <td>1</td>\n",
       "      <td>1.0</td>\n",
       "      <td>0</td>\n",
       "      <td>1</td>\n",
       "      <td>1</td>\n",
       "      <td>1</td>\n",
       "      <td>10</td>\n",
       "      <td>7</td>\n",
       "      <td>NaN</td>\n",
       "      <td>...</td>\n",
       "      <td>5.0</td>\n",
       "      <td>7.0</td>\n",
       "      <td>7.0</td>\n",
       "      <td>7.0</td>\n",
       "      <td>7.0</td>\n",
       "      <td>NaN</td>\n",
       "      <td>NaN</td>\n",
       "      <td>NaN</td>\n",
       "      <td>NaN</td>\n",
       "      <td>NaN</td>\n",
       "    </tr>\n",
       "    <tr>\n",
       "      <th>3</th>\n",
       "      <td>4</td>\n",
       "      <td>1</td>\n",
       "      <td>1.0</td>\n",
       "      <td>0</td>\n",
       "      <td>1</td>\n",
       "      <td>1</td>\n",
       "      <td>1</td>\n",
       "      <td>10</td>\n",
       "      <td>7</td>\n",
       "      <td>NaN</td>\n",
       "      <td>...</td>\n",
       "      <td>5.0</td>\n",
       "      <td>7.0</td>\n",
       "      <td>7.0</td>\n",
       "      <td>7.0</td>\n",
       "      <td>7.0</td>\n",
       "      <td>NaN</td>\n",
       "      <td>NaN</td>\n",
       "      <td>NaN</td>\n",
       "      <td>NaN</td>\n",
       "      <td>NaN</td>\n",
       "    </tr>\n",
       "    <tr>\n",
       "      <th>4</th>\n",
       "      <td>5</td>\n",
       "      <td>1</td>\n",
       "      <td>1.0</td>\n",
       "      <td>0</td>\n",
       "      <td>1</td>\n",
       "      <td>1</td>\n",
       "      <td>1</td>\n",
       "      <td>10</td>\n",
       "      <td>7</td>\n",
       "      <td>NaN</td>\n",
       "      <td>...</td>\n",
       "      <td>5.0</td>\n",
       "      <td>7.0</td>\n",
       "      <td>7.0</td>\n",
       "      <td>7.0</td>\n",
       "      <td>7.0</td>\n",
       "      <td>NaN</td>\n",
       "      <td>NaN</td>\n",
       "      <td>NaN</td>\n",
       "      <td>NaN</td>\n",
       "      <td>NaN</td>\n",
       "    </tr>\n",
       "    <tr>\n",
       "      <th>5</th>\n",
       "      <td>6</td>\n",
       "      <td>1</td>\n",
       "      <td>1.0</td>\n",
       "      <td>0</td>\n",
       "      <td>1</td>\n",
       "      <td>1</td>\n",
       "      <td>1</td>\n",
       "      <td>10</td>\n",
       "      <td>7</td>\n",
       "      <td>NaN</td>\n",
       "      <td>...</td>\n",
       "      <td>5.0</td>\n",
       "      <td>7.0</td>\n",
       "      <td>7.0</td>\n",
       "      <td>7.0</td>\n",
       "      <td>7.0</td>\n",
       "      <td>NaN</td>\n",
       "      <td>NaN</td>\n",
       "      <td>NaN</td>\n",
       "      <td>NaN</td>\n",
       "      <td>NaN</td>\n",
       "    </tr>\n",
       "    <tr>\n",
       "      <th>6</th>\n",
       "      <td>7</td>\n",
       "      <td>1</td>\n",
       "      <td>1.0</td>\n",
       "      <td>0</td>\n",
       "      <td>1</td>\n",
       "      <td>1</td>\n",
       "      <td>1</td>\n",
       "      <td>10</td>\n",
       "      <td>7</td>\n",
       "      <td>NaN</td>\n",
       "      <td>...</td>\n",
       "      <td>5.0</td>\n",
       "      <td>7.0</td>\n",
       "      <td>7.0</td>\n",
       "      <td>7.0</td>\n",
       "      <td>7.0</td>\n",
       "      <td>NaN</td>\n",
       "      <td>NaN</td>\n",
       "      <td>NaN</td>\n",
       "      <td>NaN</td>\n",
       "      <td>NaN</td>\n",
       "    </tr>\n",
       "    <tr>\n",
       "      <th>7</th>\n",
       "      <td>8</td>\n",
       "      <td>1</td>\n",
       "      <td>1.0</td>\n",
       "      <td>0</td>\n",
       "      <td>1</td>\n",
       "      <td>1</td>\n",
       "      <td>1</td>\n",
       "      <td>10</td>\n",
       "      <td>7</td>\n",
       "      <td>NaN</td>\n",
       "      <td>...</td>\n",
       "      <td>5.0</td>\n",
       "      <td>7.0</td>\n",
       "      <td>7.0</td>\n",
       "      <td>7.0</td>\n",
       "      <td>7.0</td>\n",
       "      <td>NaN</td>\n",
       "      <td>NaN</td>\n",
       "      <td>NaN</td>\n",
       "      <td>NaN</td>\n",
       "      <td>NaN</td>\n",
       "    </tr>\n",
       "    <tr>\n",
       "      <th>8</th>\n",
       "      <td>9</td>\n",
       "      <td>1</td>\n",
       "      <td>1.0</td>\n",
       "      <td>0</td>\n",
       "      <td>1</td>\n",
       "      <td>1</td>\n",
       "      <td>1</td>\n",
       "      <td>10</td>\n",
       "      <td>7</td>\n",
       "      <td>NaN</td>\n",
       "      <td>...</td>\n",
       "      <td>5.0</td>\n",
       "      <td>7.0</td>\n",
       "      <td>7.0</td>\n",
       "      <td>7.0</td>\n",
       "      <td>7.0</td>\n",
       "      <td>NaN</td>\n",
       "      <td>NaN</td>\n",
       "      <td>NaN</td>\n",
       "      <td>NaN</td>\n",
       "      <td>NaN</td>\n",
       "    </tr>\n",
       "    <tr>\n",
       "      <th>9</th>\n",
       "      <td>10</td>\n",
       "      <td>1</td>\n",
       "      <td>1.0</td>\n",
       "      <td>0</td>\n",
       "      <td>1</td>\n",
       "      <td>1</td>\n",
       "      <td>1</td>\n",
       "      <td>10</td>\n",
       "      <td>7</td>\n",
       "      <td>NaN</td>\n",
       "      <td>...</td>\n",
       "      <td>5.0</td>\n",
       "      <td>7.0</td>\n",
       "      <td>7.0</td>\n",
       "      <td>7.0</td>\n",
       "      <td>7.0</td>\n",
       "      <td>NaN</td>\n",
       "      <td>NaN</td>\n",
       "      <td>NaN</td>\n",
       "      <td>NaN</td>\n",
       "      <td>NaN</td>\n",
       "    </tr>\n",
       "  </tbody>\n",
       "</table>\n",
       "<p>10 rows × 196 columns</p>\n",
       "</div>"
      ],
      "text/plain": [
       "   respondant  iid   id  gender  idg  condtn  wave  round  position  positin1  \\\n",
       "0           1    1  1.0       0    1       1     1     10         7       NaN   \n",
       "1           2    1  1.0       0    1       1     1     10         7       NaN   \n",
       "2           3    1  1.0       0    1       1     1     10         7       NaN   \n",
       "3           4    1  1.0       0    1       1     1     10         7       NaN   \n",
       "4           5    1  1.0       0    1       1     1     10         7       NaN   \n",
       "5           6    1  1.0       0    1       1     1     10         7       NaN   \n",
       "6           7    1  1.0       0    1       1     1     10         7       NaN   \n",
       "7           8    1  1.0       0    1       1     1     10         7       NaN   \n",
       "8           9    1  1.0       0    1       1     1     10         7       NaN   \n",
       "9          10    1  1.0       0    1       1     1     10         7       NaN   \n",
       "\n",
       "   ...  attr3_3  sinc3_3  intel3_3  fun3_3  amb3_3  attr5_3  sinc5_3  \\\n",
       "0  ...      5.0      7.0       7.0     7.0     7.0      NaN      NaN   \n",
       "1  ...      5.0      7.0       7.0     7.0     7.0      NaN      NaN   \n",
       "2  ...      5.0      7.0       7.0     7.0     7.0      NaN      NaN   \n",
       "3  ...      5.0      7.0       7.0     7.0     7.0      NaN      NaN   \n",
       "4  ...      5.0      7.0       7.0     7.0     7.0      NaN      NaN   \n",
       "5  ...      5.0      7.0       7.0     7.0     7.0      NaN      NaN   \n",
       "6  ...      5.0      7.0       7.0     7.0     7.0      NaN      NaN   \n",
       "7  ...      5.0      7.0       7.0     7.0     7.0      NaN      NaN   \n",
       "8  ...      5.0      7.0       7.0     7.0     7.0      NaN      NaN   \n",
       "9  ...      5.0      7.0       7.0     7.0     7.0      NaN      NaN   \n",
       "\n",
       "   intel5_3  fun5_3  amb5_3  \n",
       "0       NaN     NaN     NaN  \n",
       "1       NaN     NaN     NaN  \n",
       "2       NaN     NaN     NaN  \n",
       "3       NaN     NaN     NaN  \n",
       "4       NaN     NaN     NaN  \n",
       "5       NaN     NaN     NaN  \n",
       "6       NaN     NaN     NaN  \n",
       "7       NaN     NaN     NaN  \n",
       "8       NaN     NaN     NaN  \n",
       "9       NaN     NaN     NaN  \n",
       "\n",
       "[10 rows x 196 columns]"
      ]
     },
     "execution_count": 2,
     "metadata": {},
     "output_type": "execute_result"
    }
   ],
   "source": [
    "\n",
    "\n",
    "df = pd.read_csv(\"speed.csv\", sep = \",\")\n",
    "df.head(10)\n",
    "\n"
   ]
  },
  {
   "cell_type": "code",
   "execution_count": 3,
   "metadata": {},
   "outputs": [
    {
     "data": {
      "text/plain": [
       "field_cd      82\n",
       "sinc         277\n",
       "shar        1067\n",
       "intel        296\n",
       "fun          350\n",
       "amb          712\n",
       "sinc5_3     6362\n",
       "income      4099\n",
       "samerace       0\n",
       "int_corr     158\n",
       "attr         202\n",
       "imprelig      79\n",
       "career        89\n",
       "tuition     4795\n",
       "match          0\n",
       "gender         0\n",
       "age_o        104\n",
       "goal          79\n",
       "date          97\n",
       "go_out        79\n",
       "dtype: int64"
      ]
     },
     "execution_count": 3,
     "metadata": {},
     "output_type": "execute_result"
    }
   ],
   "source": [
    "new_df=(df>>select(X.field_cd,X.sinc,X.shar,X.intel,X.fun,X.amb,X.sinc5_3,X.income,X.samerace,X.int_corr,X.attr,X.imprelig, X.career, X.tuition, X.match, X.gender,X.age_o,X.goal,X.date,X.go_out))\n",
    "new_df.describe()\n",
    "np.sum(new_df.isnull()) # Here we can see the variables with missing values\n"
   ]
  },
  {
   "cell_type": "code",
   "execution_count": 4,
   "metadata": {},
   "outputs": [],
   "source": [
    "female=df['gender']==0\n",
    "new_df['female']=female"
   ]
  },
  {
   "cell_type": "code",
   "execution_count": 5,
   "metadata": {},
   "outputs": [
    {
     "data": {
      "text/plain": [
       "field_cd      82\n",
       "sinc         277\n",
       "shar        1067\n",
       "intel        296\n",
       "fun          350\n",
       "amb          712\n",
       "sinc5_3     6362\n",
       "income      4099\n",
       "samerace       0\n",
       "int_corr     158\n",
       "attr         202\n",
       "imprelig      79\n",
       "career        89\n",
       "tuition     4795\n",
       "match          0\n",
       "gender         0\n",
       "age_o        104\n",
       "goal          79\n",
       "date          97\n",
       "go_out        79\n",
       "female         0\n",
       "dtype: int64"
      ]
     },
     "execution_count": 5,
     "metadata": {},
     "output_type": "execute_result"
    }
   ],
   "source": [
    "np.sum(new_df.isnull())"
   ]
  },
  {
   "cell_type": "markdown",
   "metadata": {},
   "source": [
    "# Data Cleaning\n",
    "# Filling missing values with median"
   ]
  },
  {
   "cell_type": "code",
   "execution_count": 6,
   "metadata": {},
   "outputs": [],
   "source": [
    "\n",
    "new_df.income=new_df.income.replace({pd.np.nan: \"55,080.00\"})\n",
    "new_df.tuition=new_df.tuition.replace({pd.np.nan: \"26,908.00\"})\n",
    "value_2=new_df['age_o'].median()\n",
    "\n",
    "new_df['age_o'] = new_df['age_o'].fillna(value_2)\n",
    "\n",
    "value_3=new_df['goal'].median()\n",
    "\n",
    "new_df['goal'] = new_df['goal'].fillna(value_3)\n",
    "\n",
    "value_4=new_df['date'].median()\n",
    "\n",
    "new_df['date'] = new_df['date'].fillna(value_4)\n",
    "\n",
    "value_5=new_df['go_out'].median()\n",
    "\n",
    "new_df['go_out'] = new_df['go_out'].fillna(value_5)\n",
    "\n",
    "value_6=new_df['field_cd'].median()\n",
    "new_df['field_cd']=new_df['field_cd'].fillna(value_6)\n",
    "\n",
    "new_df\n",
    "\n",
    "new_df['salary']=new_df['income'].apply(lambda x: x.replace(',',\"\"))\n",
    "new_df['Income']=new_df['salary'].apply(lambda x: int(x.split('.00')[0]))\n",
    "\n",
    "new_df['amount_t']=new_df['tuition'].apply(lambda x: x.replace(',',\"\"))\n",
    "new_df['Tuition']=new_df['amount_t'].apply(lambda x: int(x.split('.00')[0]))\n",
    "np.sum(new_df.isna())\n",
    "\n",
    "\n",
    "value_7=new_df['int_corr'].median()\n",
    "\n",
    "new_df['int_corr'] = new_df['int_corr'].fillna(value_7)\n",
    "\n",
    "value_8=new_df['samerace'].median()\n",
    "\n",
    "new_df['samerace'] = new_df['samerace'].fillna(value_8)\n",
    "\n",
    "value_9=new_df['attr'].median()\n",
    "\n",
    "new_df['attr'] = new_df['attr'].fillna(value_9)\n",
    "\n",
    "value_10=new_df['imprelig'].median()\n",
    "\n",
    "new_df['imprelig'] = new_df['imprelig'].fillna(value_10)\n",
    "\n",
    "\n",
    "value_11=new_df['sinc5_3'].median()\n",
    "\n",
    "new_df['sinc5_3'] = new_df['sinc5_3'].fillna(value_11)\n",
    "np.sum(new_df.isna())\n",
    "\n",
    "\n",
    "\n",
    "value_13=new_df['intel'].median()\n",
    "\n",
    "new_df['intel'] = new_df['intel'].fillna(value_13)\n",
    "\n",
    "value_14=new_df['fun'].median()\n",
    "\n",
    "new_df['fun'] = new_df['fun'].fillna(value_14)\n",
    "\n",
    "\n",
    "value_15=new_df['amb'].median()\n",
    "\n",
    "new_df['amb'] = new_df['amb'].fillna(value_15)\n",
    "\n",
    "value_16=new_df['sinc'].median()\n",
    "\n",
    "new_df['sinc'] = new_df['sinc'].fillna(value_16)\n",
    "\n",
    "value_17=new_df['shar'].median()\n",
    "\n",
    "new_df['shar'] = new_df['shar'].fillna(value_17)\n",
    "\n",
    "np.sum(new_df.isnull())\n",
    "dataset=(new_df>>drop(X.tuition,X.career,X.income,X.goal))"
   ]
  },
  {
   "cell_type": "markdown",
   "metadata": {},
   "source": [
    "# Data Exploration"
   ]
  },
  {
   "cell_type": "code",
   "execution_count": 7,
   "metadata": {},
   "outputs": [],
   "source": [
    "\n",
    "new_df.describe()\n",
    "\n",
    "\n",
    "bins=[1,2,3,4,5,6,7,8,9,10,11,12,13,14,15,16,17,18]\n",
    "bins\n",
    "\n",
    "field_names=['Law','Math', 'Social Science','Medical','Engineering','English/Creative Writing/ Journalism','History/Religion/Philosophy ',\n",
    "            'Business/Econ/Finance ','Education/Academia ','Biological Sciences/Chemistry/Physics','Social Work ','Undergrad/undecided',\n",
    "             'Political Science/International Affairs ','Film','Fine Arts/Arts Administration','Languages','Architecture','Other']\n",
    "\n",
    "\n",
    "d=dict(enumerate(field_names,1))\n",
    "\n",
    "new_df['field_cat']=np.vectorize(d.get)(np.digitize(new_df['field_cd'], bins))\n",
    "\n",
    "new_df\n",
    "\n",
    "plot1=(new_df>>mask(X.match==1)>>select(X.field_cd,X.field_cat)>>group_by(X.field_cat)>>summarize(count=n(X.field_cat)))\n",
    "# Here I'm using a similar package to R's 'Dplyr'. This allows me to retain some familiarity with R.\n",
    "\n"
   ]
  },
  {
   "cell_type": "markdown",
   "metadata": {},
   "source": [
    "# Question 1: What are the specific career fields for our dating participants?"
   ]
  },
  {
   "cell_type": "code",
   "execution_count": 8,
   "metadata": {},
   "outputs": [
    {
     "data": {
      "text/plain": [
       "<matplotlib.axes._subplots.AxesSubplot at 0x220d5f53400>"
      ]
     },
     "execution_count": 8,
     "metadata": {},
     "output_type": "execute_result"
    },
    {
     "data": {
      "image/png": "[encoded data removed]",
      "text/plain": [
       "<Figure size 432x288 with 1 Axes>"
      ]
     },
     "metadata": {
      "needs_background": "light"
     },
     "output_type": "display_data"
    }
   ],
   "source": [
    "plot1.plot(kind=\"bar\", x='field_cat')"
   ]
  },
  {
   "cell_type": "code",
   "execution_count": 9,
   "metadata": {},
   "outputs": [
    {
     "data": {
      "text/html": [
       "<div>\n",
       "<style scoped>\n",
       "    .dataframe tbody tr th:only-of-type {\n",
       "        vertical-align: middle;\n",
       "    }\n",
       "\n",
       "    .dataframe tbody tr th {\n",
       "        vertical-align: top;\n",
       "    }\n",
       "\n",
       "    .dataframe thead th {\n",
       "        text-align: right;\n",
       "    }\n",
       "</style>\n",
       "<table border=\"1\" class=\"dataframe\">\n",
       "  <thead>\n",
       "    <tr style=\"text-align: right;\">\n",
       "      <th></th>\n",
       "      <th>goal_p</th>\n",
       "      <th>count</th>\n",
       "    </tr>\n",
       "  </thead>\n",
       "  <tbody>\n",
       "    <tr>\n",
       "      <th>0</th>\n",
       "      <td>Looking for a serious relationship</td>\n",
       "      <td>51</td>\n",
       "    </tr>\n",
       "    <tr>\n",
       "      <th>1</th>\n",
       "      <td>Other</td>\n",
       "      <td>62</td>\n",
       "    </tr>\n",
       "    <tr>\n",
       "      <th>2</th>\n",
       "      <td>Seemed like a fun night out</td>\n",
       "      <td>583</td>\n",
       "    </tr>\n",
       "    <tr>\n",
       "      <th>3</th>\n",
       "      <td>To get a date</td>\n",
       "      <td>100</td>\n",
       "    </tr>\n",
       "    <tr>\n",
       "      <th>4</th>\n",
       "      <td>To meet new people</td>\n",
       "      <td>499</td>\n",
       "    </tr>\n",
       "    <tr>\n",
       "      <th>5</th>\n",
       "      <td>To say I did it</td>\n",
       "      <td>85</td>\n",
       "    </tr>\n",
       "  </tbody>\n",
       "</table>\n",
       "</div>"
      ],
      "text/plain": [
       "                               goal_p  count\n",
       "0  Looking for a serious relationship     51\n",
       "1                               Other     62\n",
       "2         Seemed like a fun night out    583\n",
       "3                       To get a date    100\n",
       "4                  To meet new people    499\n",
       "5                     To say I did it     85"
      ]
     },
     "execution_count": 9,
     "metadata": {},
     "output_type": "execute_result"
    }
   ],
   "source": [
    "\n",
    "\n",
    "goal_cat=['Seemed like a fun night out','To meet new people','To get a date','Looking for a serious relationship',\n",
    "'To say I did it','Other']\n",
    "bin2=[1,2,3,4,5,6]\n",
    "\n",
    "\n",
    "a=dict(enumerate(goal_cat,1))\n",
    "new_df['goal_p']=np.vectorize(a.get)(np.digitize(new_df['goal'], bins))\n",
    "\n",
    "new_df.head(15)\n",
    "\n",
    "plot2=(new_df>>mask(X.match==1) >>select(X.goal,X.goal_p)>>group_by(X.goal_p)>>summarize(count=n(X.goal_p)))\n",
    "\n",
    "plot2\n",
    "\n"
   ]
  },
  {
   "cell_type": "markdown",
   "metadata": {},
   "source": [
    "# Question 2: Which Goal had the highest percentage for matches?"
   ]
  },
  {
   "cell_type": "code",
   "execution_count": 10,
   "metadata": {},
   "outputs": [
    {
     "data": {
      "image/png": "[encoded data removed]",
      "text/plain": [
       "<Figure size 432x288 with 1 Axes>"
      ]
     },
     "metadata": {},
     "output_type": "display_data"
    }
   ],
   "source": [
    "plt.pie(plot2['count'],labels=plot2['goal_p'],autopct='%1.1f%%')\n",
    "plt.title('Those who are considered a \"Match\" per \"Goal\" for Dating')\n",
    "plt.axis('equal')\n",
    "plt.show()\n"
   ]
  },
  {
   "cell_type": "code",
   "execution_count": 11,
   "metadata": {},
   "outputs": [
    {
     "data": {
      "text/plain": [
       "field_cd      0\n",
       "sinc          0\n",
       "shar          0\n",
       "intel         0\n",
       "fun           0\n",
       "amb           0\n",
       "sinc5_3       0\n",
       "income        0\n",
       "samerace      0\n",
       "int_corr      0\n",
       "attr          0\n",
       "imprelig      0\n",
       "career       89\n",
       "tuition       0\n",
       "match         0\n",
       "gender        0\n",
       "age_o         0\n",
       "goal          0\n",
       "date          0\n",
       "go_out        0\n",
       "female        0\n",
       "salary        0\n",
       "Income        0\n",
       "amount_t      0\n",
       "Tuition       0\n",
       "field_cat     0\n",
       "goal_p        0\n",
       "dtype: int64"
      ]
     },
     "execution_count": 11,
     "metadata": {},
     "output_type": "execute_result"
    }
   ],
   "source": [
    "np.sum(new_df.isnull())\n"
   ]
  },
  {
   "cell_type": "code",
   "execution_count": 12,
   "metadata": {},
   "outputs": [],
   "source": [
    "dataset=(new_df>>drop(X.tuition,X.career,X.income,X.goal))"
   ]
  },
  {
   "cell_type": "markdown",
   "metadata": {},
   "source": [
    "# Question 3: How do Men and Women differ in area of prefferences of the oppisite sex?\n",
    "\n",
    "# Male=1"
   ]
  },
  {
   "cell_type": "code",
   "execution_count": 13,
   "metadata": {},
   "outputs": [
    {
     "data": {
      "image/png": "[encoded data removed]",
      "text/plain": [
       "<Figure size 720x720 with 1 Axes>"
      ]
     },
     "metadata": {
      "needs_background": "light"
     },
     "output_type": "display_data"
    }
   ],
   "source": [
    "\n",
    "pf =['attr','sinc','shar','fun',\n",
    "              'amb','intel']\n",
    "g = plt.figure(figsize=(10,10))\n",
    "g = sns.countplot(y=\"date\",data=dataset, hue='gender')\n",
    "g.set(yticklabels=pf)\n",
    "g = plt.yticks(rotation=0,fontsize=15)"
   ]
  },
  {
   "cell_type": "code",
   "execution_count": 14,
   "metadata": {},
   "outputs": [
    {
     "data": {
      "text/plain": [
       "field_cd     0\n",
       "sinc         0\n",
       "shar         0\n",
       "intel        0\n",
       "fun          0\n",
       "amb          0\n",
       "sinc5_3      0\n",
       "samerace     0\n",
       "int_corr     0\n",
       "attr         0\n",
       "imprelig     0\n",
       "match        0\n",
       "gender       0\n",
       "age_o        0\n",
       "date         0\n",
       "go_out       0\n",
       "female       0\n",
       "salary       0\n",
       "Income       0\n",
       "amount_t     0\n",
       "Tuition      0\n",
       "field_cat    0\n",
       "goal_p       0\n",
       "dtype: int64"
      ]
     },
     "execution_count": 14,
     "metadata": {},
     "output_type": "execute_result"
    }
   ],
   "source": [
    "\n",
    "np.sum(dataset.isnull())"
   ]
  },
  {
   "cell_type": "markdown",
   "metadata": {},
   "source": [
    "# Heatmap to show correlations among variables"
   ]
  },
  {
   "cell_type": "code",
   "execution_count": 15,
   "metadata": {},
   "outputs": [
    {
     "data": {
      "text/plain": [
       "<matplotlib.axes._subplots.AxesSubplot at 0x220d69fcdd8>"
      ]
     },
     "execution_count": 15,
     "metadata": {},
     "output_type": "execute_result"
    },
    {
     "data": {
      "image/png": "[encoded data removed]",
      "text/plain": [
       "<Figure size 432x288 with 2 Axes>"
      ]
     },
     "metadata": {
      "needs_background": "light"
     },
     "output_type": "display_data"
    }
   ],
   "source": [
    "hm=dataset.corr()\n",
    "cmap=sns.diverging_palette(220, 22, as_cmap=True)\n",
    "sns.heatmap(hm, cmap=cmap)"
   ]
  },
  {
   "cell_type": "code",
   "execution_count": 16,
   "metadata": {},
   "outputs": [
    {
     "data": {
      "text/html": [
       "<div>\n",
       "<style scoped>\n",
       "    .dataframe tbody tr th:only-of-type {\n",
       "        vertical-align: middle;\n",
       "    }\n",
       "\n",
       "    .dataframe tbody tr th {\n",
       "        vertical-align: top;\n",
       "    }\n",
       "\n",
       "    .dataframe thead th {\n",
       "        text-align: right;\n",
       "    }\n",
       "</style>\n",
       "<table border=\"1\" class=\"dataframe\">\n",
       "  <thead>\n",
       "    <tr style=\"text-align: right;\">\n",
       "      <th></th>\n",
       "      <th>field_cd</th>\n",
       "      <th>sinc</th>\n",
       "      <th>shar</th>\n",
       "      <th>intel</th>\n",
       "      <th>fun</th>\n",
       "      <th>amb</th>\n",
       "      <th>sinc5_3</th>\n",
       "      <th>samerace</th>\n",
       "      <th>int_corr</th>\n",
       "      <th>attr</th>\n",
       "      <th>imprelig</th>\n",
       "      <th>match</th>\n",
       "      <th>gender</th>\n",
       "      <th>age_o</th>\n",
       "      <th>date</th>\n",
       "      <th>go_out</th>\n",
       "      <th>Income</th>\n",
       "      <th>Tuition</th>\n",
       "    </tr>\n",
       "  </thead>\n",
       "  <tbody>\n",
       "    <tr>\n",
       "      <th>count</th>\n",
       "      <td>8378.000000</td>\n",
       "      <td>8378.000000</td>\n",
       "      <td>8378.000000</td>\n",
       "      <td>8378.000000</td>\n",
       "      <td>8378.000000</td>\n",
       "      <td>8378.000000</td>\n",
       "      <td>8378.000000</td>\n",
       "      <td>8378.000000</td>\n",
       "      <td>8378.000000</td>\n",
       "      <td>8378.000000</td>\n",
       "      <td>8378.000000</td>\n",
       "      <td>8378.000000</td>\n",
       "      <td>8378.000000</td>\n",
       "      <td>8378.000000</td>\n",
       "      <td>8378.000000</td>\n",
       "      <td>8378.000000</td>\n",
       "      <td>8378.000000</td>\n",
       "      <td>8378.000000</td>\n",
       "    </tr>\n",
       "    <tr>\n",
       "      <th>mean</th>\n",
       "      <td>7.665791</td>\n",
       "      <td>7.169372</td>\n",
       "      <td>5.541478</td>\n",
       "      <td>7.355574</td>\n",
       "      <td>6.425639</td>\n",
       "      <td>6.796431</td>\n",
       "      <td>7.907376</td>\n",
       "      <td>0.395799</td>\n",
       "      <td>0.196274</td>\n",
       "      <td>6.185414</td>\n",
       "      <td>3.645500</td>\n",
       "      <td>0.164717</td>\n",
       "      <td>0.500597</td>\n",
       "      <td>26.360468</td>\n",
       "      <td>5.006684</td>\n",
       "      <td>2.156601</td>\n",
       "      <td>49874.312246</td>\n",
       "      <td>24456.149439</td>\n",
       "    </tr>\n",
       "    <tr>\n",
       "      <th>std</th>\n",
       "      <td>3.740640</td>\n",
       "      <td>1.711587</td>\n",
       "      <td>2.021959</td>\n",
       "      <td>1.524334</td>\n",
       "      <td>1.916210</td>\n",
       "      <td>1.717241</td>\n",
       "      <td>0.756029</td>\n",
       "      <td>0.489051</td>\n",
       "      <td>0.300669</td>\n",
       "      <td>1.926733</td>\n",
       "      <td>2.792688</td>\n",
       "      <td>0.370947</td>\n",
       "      <td>0.500029</td>\n",
       "      <td>3.541689</td>\n",
       "      <td>1.436143</td>\n",
       "      <td>1.100129</td>\n",
       "      <td>13310.323063</td>\n",
       "      <td>5246.026947</td>\n",
       "    </tr>\n",
       "    <tr>\n",
       "      <th>min</th>\n",
       "      <td>1.000000</td>\n",
       "      <td>0.000000</td>\n",
       "      <td>0.000000</td>\n",
       "      <td>0.000000</td>\n",
       "      <td>0.000000</td>\n",
       "      <td>0.000000</td>\n",
       "      <td>2.000000</td>\n",
       "      <td>0.000000</td>\n",
       "      <td>-0.830000</td>\n",
       "      <td>0.000000</td>\n",
       "      <td>1.000000</td>\n",
       "      <td>0.000000</td>\n",
       "      <td>0.000000</td>\n",
       "      <td>18.000000</td>\n",
       "      <td>1.000000</td>\n",
       "      <td>1.000000</td>\n",
       "      <td>8607.000000</td>\n",
       "      <td>2406.000000</td>\n",
       "    </tr>\n",
       "    <tr>\n",
       "      <th>25%</th>\n",
       "      <td>5.000000</td>\n",
       "      <td>6.000000</td>\n",
       "      <td>4.000000</td>\n",
       "      <td>7.000000</td>\n",
       "      <td>5.000000</td>\n",
       "      <td>6.000000</td>\n",
       "      <td>8.000000</td>\n",
       "      <td>0.000000</td>\n",
       "      <td>-0.010000</td>\n",
       "      <td>5.000000</td>\n",
       "      <td>1.000000</td>\n",
       "      <td>0.000000</td>\n",
       "      <td>0.000000</td>\n",
       "      <td>24.000000</td>\n",
       "      <td>4.000000</td>\n",
       "      <td>1.000000</td>\n",
       "      <td>42651.000000</td>\n",
       "      <td>25555.000000</td>\n",
       "    </tr>\n",
       "    <tr>\n",
       "      <th>50%</th>\n",
       "      <td>8.000000</td>\n",
       "      <td>7.000000</td>\n",
       "      <td>6.000000</td>\n",
       "      <td>7.000000</td>\n",
       "      <td>7.000000</td>\n",
       "      <td>7.000000</td>\n",
       "      <td>8.000000</td>\n",
       "      <td>0.000000</td>\n",
       "      <td>0.210000</td>\n",
       "      <td>6.000000</td>\n",
       "      <td>3.000000</td>\n",
       "      <td>0.000000</td>\n",
       "      <td>1.000000</td>\n",
       "      <td>26.000000</td>\n",
       "      <td>5.000000</td>\n",
       "      <td>2.000000</td>\n",
       "      <td>55080.000000</td>\n",
       "      <td>26908.000000</td>\n",
       "    </tr>\n",
       "    <tr>\n",
       "      <th>75%</th>\n",
       "      <td>10.000000</td>\n",
       "      <td>8.000000</td>\n",
       "      <td>7.000000</td>\n",
       "      <td>8.000000</td>\n",
       "      <td>8.000000</td>\n",
       "      <td>8.000000</td>\n",
       "      <td>8.000000</td>\n",
       "      <td>1.000000</td>\n",
       "      <td>0.430000</td>\n",
       "      <td>8.000000</td>\n",
       "      <td>6.000000</td>\n",
       "      <td>0.000000</td>\n",
       "      <td>1.000000</td>\n",
       "      <td>28.000000</td>\n",
       "      <td>6.000000</td>\n",
       "      <td>3.000000</td>\n",
       "      <td>55080.000000</td>\n",
       "      <td>26908.000000</td>\n",
       "    </tr>\n",
       "    <tr>\n",
       "      <th>max</th>\n",
       "      <td>18.000000</td>\n",
       "      <td>10.000000</td>\n",
       "      <td>10.000000</td>\n",
       "      <td>10.000000</td>\n",
       "      <td>10.000000</td>\n",
       "      <td>10.000000</td>\n",
       "      <td>10.000000</td>\n",
       "      <td>1.000000</td>\n",
       "      <td>0.910000</td>\n",
       "      <td>10.000000</td>\n",
       "      <td>10.000000</td>\n",
       "      <td>1.000000</td>\n",
       "      <td>1.000000</td>\n",
       "      <td>55.000000</td>\n",
       "      <td>7.000000</td>\n",
       "      <td>7.000000</td>\n",
       "      <td>109031.000000</td>\n",
       "      <td>34300.000000</td>\n",
       "    </tr>\n",
       "  </tbody>\n",
       "</table>\n",
       "</div>"
      ],
      "text/plain": [
       "          field_cd         sinc         shar        intel          fun  \\\n",
       "count  8378.000000  8378.000000  8378.000000  8378.000000  8378.000000   \n",
       "mean      7.665791     7.169372     5.541478     7.355574     6.425639   \n",
       "std       3.740640     1.711587     2.021959     1.524334     1.916210   \n",
       "min       1.000000     0.000000     0.000000     0.000000     0.000000   \n",
       "25%       5.000000     6.000000     4.000000     7.000000     5.000000   \n",
       "50%       8.000000     7.000000     6.000000     7.000000     7.000000   \n",
       "75%      10.000000     8.000000     7.000000     8.000000     8.000000   \n",
       "max      18.000000    10.000000    10.000000    10.000000    10.000000   \n",
       "\n",
       "               amb      sinc5_3     samerace     int_corr         attr  \\\n",
       "count  8378.000000  8378.000000  8378.000000  8378.000000  8378.000000   \n",
       "mean      6.796431     7.907376     0.395799     0.196274     6.185414   \n",
       "std       1.717241     0.756029     0.489051     0.300669     1.926733   \n",
       "min       0.000000     2.000000     0.000000    -0.830000     0.000000   \n",
       "25%       6.000000     8.000000     0.000000    -0.010000     5.000000   \n",
       "50%       7.000000     8.000000     0.000000     0.210000     6.000000   \n",
       "75%       8.000000     8.000000     1.000000     0.430000     8.000000   \n",
       "max      10.000000    10.000000     1.000000     0.910000    10.000000   \n",
       "\n",
       "          imprelig        match       gender        age_o         date  \\\n",
       "count  8378.000000  8378.000000  8378.000000  8378.000000  8378.000000   \n",
       "mean      3.645500     0.164717     0.500597    26.360468     5.006684   \n",
       "std       2.792688     0.370947     0.500029     3.541689     1.436143   \n",
       "min       1.000000     0.000000     0.000000    18.000000     1.000000   \n",
       "25%       1.000000     0.000000     0.000000    24.000000     4.000000   \n",
       "50%       3.000000     0.000000     1.000000    26.000000     5.000000   \n",
       "75%       6.000000     0.000000     1.000000    28.000000     6.000000   \n",
       "max      10.000000     1.000000     1.000000    55.000000     7.000000   \n",
       "\n",
       "            go_out         Income       Tuition  \n",
       "count  8378.000000    8378.000000   8378.000000  \n",
       "mean      2.156601   49874.312246  24456.149439  \n",
       "std       1.100129   13310.323063   5246.026947  \n",
       "min       1.000000    8607.000000   2406.000000  \n",
       "25%       1.000000   42651.000000  25555.000000  \n",
       "50%       2.000000   55080.000000  26908.000000  \n",
       "75%       3.000000   55080.000000  26908.000000  \n",
       "max       7.000000  109031.000000  34300.000000  "
      ]
     },
     "execution_count": 16,
     "metadata": {},
     "output_type": "execute_result"
    }
   ],
   "source": [
    "dataset.describe()"
   ]
  },
  {
   "cell_type": "markdown",
   "metadata": {},
   "source": [
    "# Modeling"
   ]
  },
  {
   "cell_type": "code",
   "execution_count": 17,
   "metadata": {},
   "outputs": [],
   "source": [
    "y=dataset['match']\n",
    "X=(dataset>>drop(X.match,X.goal_p,X.field_cat,X.salary,X.amount_t))\n",
    "dataset.head()\n",
    "\n",
    "from math import pow\n",
    "X['log_income']=np.log(dataset['Income'])\n",
    "X['log_tuition']=np.log(dataset['Tuition'])\n",
    "X.head()\n",
    "import statsmodels.api as sm\n",
    "X = X.assign(const=1)\n"
   ]
  },
  {
   "cell_type": "code",
   "execution_count": 18,
   "metadata": {},
   "outputs": [],
   "source": [
    "age2=X['age_o']**2"
   ]
  },
  {
   "cell_type": "code",
   "execution_count": 19,
   "metadata": {},
   "outputs": [],
   "source": [
    "X['age2']=age2"
   ]
  },
  {
   "cell_type": "code",
   "execution_count": null,
   "metadata": {},
   "outputs": [],
   "source": []
  },
  {
   "cell_type": "code",
   "execution_count": 20,
   "metadata": {},
   "outputs": [],
   "source": [
    "X=(X>>drop(X.female))"
   ]
  },
  {
   "cell_type": "code",
   "execution_count": 21,
   "metadata": {},
   "outputs": [
    {
     "name": "stdout",
     "output_type": "stream",
     "text": [
      "Optimization terminated successfully.\n",
      "         Current function value: 0.384427\n",
      "         Iterations 7\n",
      "                           Logit Regression Results                           \n",
      "==============================================================================\n",
      "Dep. Variable:                  match   No. Observations:                 8378\n",
      "Model:                          Logit   Df Residuals:                     8357\n",
      "Method:                           MLE   Df Model:                           20\n",
      "Date:                Wed, 26 Aug 2020   Pseudo R-squ.:                  0.1408\n",
      "Time:                        18:59:51   Log-Likelihood:                -3220.7\n",
      "converged:                       True   LL-Null:                       -3748.4\n",
      "                                        LLR p-value:                6.118e-211\n",
      "===============================================================================\n",
      "                  coef    std err          z      P>|z|      [0.025      0.975]\n",
      "-------------------------------------------------------------------------------\n",
      "field_cd       -0.0124      0.009     -1.450      0.147      -0.029       0.004\n",
      "sinc            0.0067      0.029      0.235      0.814      -0.049       0.063\n",
      "shar            0.1947      0.022      8.950      0.000       0.152       0.237\n",
      "intel           0.0567      0.035      1.633      0.102      -0.011       0.125\n",
      "fun             0.2637      0.027      9.620      0.000       0.210       0.317\n",
      "amb            -0.1335      0.027     -4.910      0.000      -0.187      -0.080\n",
      "sinc5_3        -0.1079      0.043     -2.512      0.012      -0.192      -0.024\n",
      "samerace       -0.0605      0.065     -0.926      0.354      -0.188       0.068\n",
      "int_corr        0.2389      0.107      2.227      0.026       0.029       0.449\n",
      "attr            0.2519      0.023     11.079      0.000       0.207       0.296\n",
      "imprelig       -0.0200      0.012     -1.676      0.094      -0.043       0.003\n",
      "gender         -0.2814      0.069     -4.093      0.000      -0.416      -0.147\n",
      "age_o           0.0345      0.082      0.422      0.673      -0.126       0.195\n",
      "date           -0.0756      0.023     -3.244      0.001      -0.121      -0.030\n",
      "go_out         -0.1498      0.033     -4.582      0.000      -0.214      -0.086\n",
      "Income       1.783e-05   9.18e-06      1.941      0.052   -1.74e-07    3.58e-05\n",
      "Tuition      2.753e-05   3.94e-05      0.698      0.485   -4.98e-05       0.000\n",
      "log_income     -0.7029      0.387     -1.814      0.070      -1.462       0.057\n",
      "log_tuition    -0.1462      0.708     -0.206      0.837      -1.535       1.242\n",
      "const           3.2083      7.419      0.432      0.665     -11.333      17.750\n",
      "age2           -0.0010      0.001     -0.649      0.516      -0.004       0.002\n",
      "===============================================================================\n"
     ]
    }
   ],
   "source": [
    "logit_model=sm.Logit(y,X)\n",
    "result=logit_model.fit()\n",
    "print(result.summary())\n",
    "# remove insignificant values"
   ]
  },
  {
   "cell_type": "code",
   "execution_count": 22,
   "metadata": {},
   "outputs": [
    {
     "name": "stdout",
     "output_type": "stream",
     "text": [
      "Optimization terminated successfully.\n",
      "         Current function value: 0.385273\n",
      "         Iterations 7\n",
      "                           Logit Regression Results                           \n",
      "==============================================================================\n",
      "Dep. Variable:                  match   No. Observations:                 8378\n",
      "Model:                          Logit   Df Residuals:                     8360\n",
      "Method:                           MLE   Df Model:                           17\n",
      "Date:                Wed, 26 Aug 2020   Pseudo R-squ.:                  0.1389\n",
      "Time:                        18:59:52   Log-Likelihood:                -3227.8\n",
      "converged:                       True   LL-Null:                       -3748.4\n",
      "                                        LLR p-value:                1.399e-210\n",
      "===============================================================================\n",
      "                  coef    std err          z      P>|z|      [0.025      0.975]\n",
      "-------------------------------------------------------------------------------\n",
      "field_cd       -0.0105      0.008     -1.238      0.216      -0.027       0.006\n",
      "sinc            0.0060      0.029      0.210      0.834      -0.050       0.062\n",
      "shar            0.1964      0.022      9.044      0.000       0.154       0.239\n",
      "intel           0.0612      0.035      1.765      0.078      -0.007       0.129\n",
      "fun             0.2642      0.027      9.635      0.000       0.210       0.318\n",
      "amb            -0.1306      0.027     -4.815      0.000      -0.184      -0.077\n",
      "sinc5_3        -0.1052      0.043     -2.455      0.014      -0.189      -0.021\n",
      "samerace       -0.0586      0.065     -0.899      0.369      -0.186       0.069\n",
      "int_corr        0.2373      0.107      2.214      0.027       0.027       0.447\n",
      "attr            0.2481      0.023     10.938      0.000       0.204       0.293\n",
      "imprelig       -0.0186      0.012     -1.558      0.119      -0.042       0.005\n",
      "gender         -0.2498      0.067     -3.708      0.000      -0.382      -0.118\n",
      "age_o           0.0298      0.081      0.366      0.714      -0.130       0.189\n",
      "go_out         -0.1843      0.031     -5.962      0.000      -0.245      -0.124\n",
      "log_income      0.0341      0.102      0.334      0.738      -0.166       0.234\n",
      "log_tuition     0.3528      0.118      2.992      0.003       0.122       0.584\n",
      "const          -8.5181      1.972     -4.319      0.000     -12.384      -4.652\n",
      "age2           -0.0009      0.001     -0.602      0.547      -0.004       0.002\n",
      "===============================================================================\n"
     ]
    }
   ],
   "source": [
    "X=(X>>drop(X.Income,X.Tuition,X.date))\n",
    "X.head()\n",
    "\n",
    "\n",
    "import statsmodels.api as sm\n",
    "logit_model=sm.Logit(y,X)\n",
    "result=logit_model.fit()\n",
    "print(result.summary())\n",
    "\n"
   ]
  },
  {
   "cell_type": "code",
   "execution_count": 23,
   "metadata": {},
   "outputs": [
    {
     "name": "stdout",
     "output_type": "stream",
     "text": [
      "Optimization terminated successfully.\n",
      "         Current function value: 0.387920\n",
      "         Iterations 7\n",
      "                           Logit Regression Results                           \n",
      "==============================================================================\n",
      "Dep. Variable:                  match   No. Observations:                 8378\n",
      "Model:                          Logit   Df Residuals:                     8365\n",
      "Method:                           MLE   Df Model:                           12\n",
      "Date:                Wed, 26 Aug 2020   Pseudo R-squ.:                  0.1330\n",
      "Time:                        18:59:52   Log-Likelihood:                -3250.0\n",
      "converged:                       True   LL-Null:                       -3748.4\n",
      "                                        LLR p-value:                9.104e-206\n",
      "===============================================================================\n",
      "                  coef    std err          z      P>|z|      [0.025      0.975]\n",
      "-------------------------------------------------------------------------------\n",
      "shar            0.2049      0.021      9.535      0.000       0.163       0.247\n",
      "intel           0.0687      0.031      2.247      0.025       0.009       0.129\n",
      "fun             0.2612      0.027      9.645      0.000       0.208       0.314\n",
      "amb            -0.1351      0.027     -5.002      0.000      -0.188      -0.082\n",
      "sinc5_3        -0.1155      0.043     -2.709      0.007      -0.199      -0.032\n",
      "samerace       -0.0225      0.065     -0.348      0.728      -0.149       0.104\n",
      "attr            0.2425      0.022     10.790      0.000       0.198       0.287\n",
      "imprelig       -0.0138      0.012     -1.165      0.244      -0.037       0.009\n",
      "gender         -0.2489      0.067     -3.737      0.000      -0.379      -0.118\n",
      "age_o           0.0202      0.078      0.259      0.796      -0.133       0.173\n",
      "log_tuition     0.3804      0.117      3.254      0.001       0.151       0.610\n",
      "const          -8.6367      1.650     -5.236      0.000     -11.870      -5.404\n",
      "age2           -0.0007      0.001     -0.508      0.611      -0.003       0.002\n",
      "===============================================================================\n"
     ]
    }
   ],
   "source": [
    "X=(X>>drop(X.go_out, X.int_corr,X.sinc,X.log_income,X.field_cd))\n",
    "import statsmodels.api as sm\n",
    "logit_model=sm.Logit(y,X)\n",
    "result=logit_model.fit()\n",
    "print(result.summary())"
   ]
  },
  {
   "cell_type": "code",
   "execution_count": 24,
   "metadata": {},
   "outputs": [
    {
     "name": "stdout",
     "output_type": "stream",
     "text": [
      "Optimization terminated successfully.\n",
      "         Current function value: 0.387928\n",
      "         Iterations 7\n",
      "                           Logit Regression Results                           \n",
      "==============================================================================\n",
      "Dep. Variable:                  match   No. Observations:                 8378\n",
      "Model:                          Logit   Df Residuals:                     8366\n",
      "Method:                           MLE   Df Model:                           11\n",
      "Date:                Wed, 26 Aug 2020   Pseudo R-squ.:                  0.1329\n",
      "Time:                        18:59:53   Log-Likelihood:                -3250.1\n",
      "converged:                       True   LL-Null:                       -3748.4\n",
      "                                        LLR p-value:                9.919e-207\n",
      "===============================================================================\n",
      "                  coef    std err          z      P>|z|      [0.025      0.975]\n",
      "-------------------------------------------------------------------------------\n",
      "shar            0.2045      0.021      9.530      0.000       0.162       0.247\n",
      "intel           0.0688      0.031      2.252      0.024       0.009       0.129\n",
      "fun             0.2613      0.027      9.654      0.000       0.208       0.314\n",
      "amb            -0.1350      0.027     -4.997      0.000      -0.188      -0.082\n",
      "sinc5_3        -0.1153      0.043     -2.704      0.007      -0.199      -0.032\n",
      "attr            0.2421      0.022     10.788      0.000       0.198       0.286\n",
      "imprelig       -0.0141      0.012     -1.201      0.230      -0.037       0.009\n",
      "gender         -0.2484      0.067     -3.730      0.000      -0.379      -0.118\n",
      "age_o           0.0212      0.078      0.272      0.786      -0.132       0.174\n",
      "log_tuition     0.3792      0.117      3.245      0.001       0.150       0.608\n",
      "const          -8.6465      1.650     -5.239      0.000     -11.881      -5.412\n",
      "age2           -0.0007      0.001     -0.521      0.602      -0.003       0.002\n",
      "===============================================================================\n"
     ]
    }
   ],
   "source": [
    "X=(X>>drop(X.samerace))\n",
    "logit_model=sm.Logit(y,X)\n",
    "result=logit_model.fit()\n",
    "print(result.summary())"
   ]
  },
  {
   "cell_type": "code",
   "execution_count": 25,
   "metadata": {},
   "outputs": [
    {
     "name": "stdout",
     "output_type": "stream",
     "text": [
      "Optimization terminated successfully.\n",
      "         Current function value: 0.388030\n",
      "         Iterations 7\n",
      "                           Logit Regression Results                           \n",
      "==============================================================================\n",
      "Dep. Variable:                  match   No. Observations:                 8378\n",
      "Model:                          Logit   Df Residuals:                     8368\n",
      "Method:                           MLE   Df Model:                            9\n",
      "Date:                Wed, 26 Aug 2020   Pseudo R-squ.:                  0.1327\n",
      "Time:                        18:59:53   Log-Likelihood:                -3250.9\n",
      "converged:                       True   LL-Null:                       -3748.4\n",
      "                                        LLR p-value:                2.100e-208\n",
      "===============================================================================\n",
      "                  coef    std err          z      P>|z|      [0.025      0.975]\n",
      "-------------------------------------------------------------------------------\n",
      "shar            0.2064      0.021      9.642      0.000       0.164       0.248\n",
      "intel           0.0677      0.031      2.219      0.027       0.008       0.128\n",
      "fun             0.2612      0.027      9.661      0.000       0.208       0.314\n",
      "amb            -0.1351      0.027     -5.003      0.000      -0.188      -0.082\n",
      "sinc5_3        -0.1221      0.042     -2.887      0.004      -0.205      -0.039\n",
      "attr            0.2420      0.022     10.799      0.000       0.198       0.286\n",
      "gender         -0.2360      0.065     -3.613      0.000      -0.364      -0.108\n",
      "age_o          -0.0195      0.009     -2.073      0.038      -0.038      -0.001\n",
      "log_tuition     0.3740      0.117      3.201      0.001       0.145       0.603\n",
      "const          -8.0399      1.244     -6.464      0.000     -10.478      -5.602\n",
      "===============================================================================\n"
     ]
    }
   ],
   "source": [
    "X=(X>>drop(X.imprelig,X.age2))\n",
    "logit_model=sm.Logit(y,X)\n",
    "result=logit_model.fit()\n",
    "print(result.summary())"
   ]
  },
  {
   "cell_type": "code",
   "execution_count": 26,
   "metadata": {},
   "outputs": [
    {
     "name": "stdout",
     "output_type": "stream",
     "text": [
      "Accuracy of logistic regression classifier on test set: 0.83\n"
     ]
    }
   ],
   "source": [
    "from sklearn.linear_model import LogisticRegression\n",
    "from sklearn import metrics\n",
    "X_train, X_test, y_train, y_test = train_test_split(X, y, test_size=0.3, random_state=0)\n",
    "logreg = LogisticRegression( max_iter=1000)\n",
    "logreg.fit(X_train, y_train)\n",
    "y_pred = logreg.predict(X_test)\n",
    "print('Accuracy of logistic regression classifier on test set: {:.2f}'.format(logreg.score(X_test, y_test)))\n"
   ]
  },
  {
   "cell_type": "code",
   "execution_count": 27,
   "metadata": {},
   "outputs": [
    {
     "name": "stdout",
     "output_type": "stream",
     "text": [
      "[[2047   41]\n",
      " [ 396   30]]\n"
     ]
    }
   ],
   "source": [
    "from sklearn.metrics import confusion_matrix\n",
    "confusion_matrix = confusion_matrix(y_test, y_pred)\n",
    "print(confusion_matrix)"
   ]
  },
  {
   "cell_type": "code",
   "execution_count": 28,
   "metadata": {},
   "outputs": [],
   "source": [
    "# Here we can see that "
   ]
  },
  {
   "cell_type": "code",
   "execution_count": 29,
   "metadata": {},
   "outputs": [
    {
     "name": "stdout",
     "output_type": "stream",
     "text": [
      "              precision    recall  f1-score   support\n",
      "\n",
      "           0       0.84      0.98      0.90      2088\n",
      "           1       0.42      0.07      0.12       426\n",
      "\n",
      "    accuracy                           0.83      2514\n",
      "   macro avg       0.63      0.53      0.51      2514\n",
      "weighted avg       0.77      0.83      0.77      2514\n",
      "\n"
     ]
    }
   ],
   "source": [
    "from sklearn.metrics import classification_report\n",
    "print(classification_report(y_test, y_pred))\n"
   ]
  },
  {
   "cell_type": "code",
   "execution_count": 30,
   "metadata": {},
   "outputs": [
    {
     "data": {
      "text/plain": [
       "'The r-squared score for your model was -0.23511278398359492 on 2514 values.'"
      ]
     },
     "execution_count": 30,
     "metadata": {},
     "output_type": "execute_result"
    }
   ],
   "source": [
    "rsquared_score = r2_score(y_test, y_pred)\n",
    "length_y_test = len(y_test)\n",
    "\"The r-squared score for your model was {} on {} values.\".format(rsquared_score, length_y_test)\n"
   ]
  },
  {
   "cell_type": "code",
   "execution_count": null,
   "metadata": {},
   "outputs": [],
   "source": []
  },
  {
   "cell_type": "code",
   "execution_count": 31,
   "metadata": {},
   "outputs": [
    {
     "data": {
      "image/png": "[encoded data removed]",
      "text/plain": [
       "<Figure size 432x288 with 1 Axes>"
      ]
     },
     "metadata": {
      "needs_background": "light"
     },
     "output_type": "display_data"
    }
   ],
   "source": [
    "from sklearn.metrics import roc_auc_score\n",
    "from sklearn.metrics import roc_curve\n",
    "logit_roc_auc = roc_auc_score(y_test, logreg.predict(X_test))\n",
    "fpr, tpr, thresholds = roc_curve(y_test, logreg.predict_proba(X_test)[:,1])\n",
    "plt.figure()\n",
    "plt.plot(fpr, tpr, label='Logistic Regression (area = %0.2f)' % logit_roc_auc)\n",
    "plt.plot([0, 1], [0, 1],'r--')\n",
    "plt.xlim([0.0, 1.0])\n",
    "plt.ylim([0.0, 1.05])\n",
    "plt.xlabel('False Positive Rate')\n",
    "plt.ylabel('True Positive Rate')\n",
    "plt.title('Receiver operating characteristic')\n",
    "plt.legend(loc=\"lower right\")\n",
    "plt.savefig('Log_ROC')\n",
    "plt.show()"
   ]
  },
  {
   "cell_type": "code",
   "execution_count": 32,
   "metadata": {},
   "outputs": [],
   "source": [
    "# We can improve the model by using a sampling technique to deal with our variable \"Match\".\n",
    "# Match is imbalacned."
   ]
  },
  {
   "cell_type": "markdown",
   "metadata": {},
   "source": [
    "# Improve AUC by implementing SMOTE for imbalanced minority class"
   ]
  },
  {
   "cell_type": "code",
   "execution_count": 33,
   "metadata": {},
   "outputs": [
    {
     "data": {
      "text/plain": [
       "0    6998\n",
       "1    1380\n",
       "Name: match, dtype: int64"
      ]
     },
     "execution_count": 33,
     "metadata": {},
     "output_type": "execute_result"
    }
   ],
   "source": [
    "\n",
    "df.match.value_counts()"
   ]
  },
  {
   "cell_type": "code",
   "execution_count": 34,
   "metadata": {},
   "outputs": [
    {
     "data": {
      "image/png": "[encoded data removed]",
      "text/plain": [
       "<Figure size 432x288 with 1 Axes>"
      ]
     },
     "metadata": {
      "needs_background": "light"
     },
     "output_type": "display_data"
    }
   ],
   "source": [
    "sns.countplot(x=df.match, data=df, palette ='hls')\n",
    "plt.show()"
   ]
  },
  {
   "cell_type": "markdown",
   "metadata": {},
   "source": [
    "# Here we can see that there is imbalance to our Matches variable."
   ]
  },
  {
   "cell_type": "code",
   "execution_count": 35,
   "metadata": {},
   "outputs": [],
   "source": [
    "\n",
    "\n",
    "from imblearn.over_sampling import SMOTE\n",
    "os = SMOTE(random_state=0)\n",
    "X_train, X_test, y_train, y_test = train_test_split(X, y, test_size=0.3, random_state=0)\n",
    "columns = X_train.columns\n",
    "\n",
    "os_data_X,os_data_y=os.fit_sample(X_train, y_train)\n",
    "os_data_X = pd.DataFrame(data=os_data_X,columns=columns )\n",
    "os_data_y= pd.DataFrame(data=os_data_y,columns=['match'])\n"
   ]
  },
  {
   "cell_type": "code",
   "execution_count": 36,
   "metadata": {},
   "outputs": [
    {
     "name": "stdout",
     "output_type": "stream",
     "text": [
      "length of oversampled data is  9820\n",
      "Number of no match in oversampled data 4910\n",
      "Number of match 4910\n",
      "Proportion of no match data in oversampled data is  0.5\n",
      "Proportion of match data in oversampled data is  0.5\n"
     ]
    }
   ],
   "source": [
    "print(\"length of oversampled data is \",len(os_data_X))\n",
    "print(\"Number of no match in oversampled data\",len(os_data_y[os_data_y['match']==0]))\n",
    "print(\"Number of match\",len(os_data_y[os_data_y['match']==1]))\n",
    "print(\"Proportion of no match data in oversampled data is \",len(os_data_y[os_data_y['match']==0])/len(os_data_X))\n",
    "print(\"Proportion of match data in oversampled data is \",len(os_data_y[os_data_y['match']==1])/len(os_data_X))\n",
    "\n"
   ]
  },
  {
   "cell_type": "code",
   "execution_count": 37,
   "metadata": {},
   "outputs": [
    {
     "name": "stdout",
     "output_type": "stream",
     "text": [
      "Optimization terminated successfully.\n",
      "         Current function value: 0.561664\n",
      "         Iterations 6\n",
      "                           Logit Regression Results                           \n",
      "==============================================================================\n",
      "Dep. Variable:                  match   No. Observations:                 9820\n",
      "Model:                          Logit   Df Residuals:                     9810\n",
      "Method:                           MLE   Df Model:                            9\n",
      "Date:                Wed, 26 Aug 2020   Pseudo R-squ.:                  0.1897\n",
      "Time:                        18:59:57   Log-Likelihood:                -5515.5\n",
      "converged:                       True   LL-Null:                       -6806.7\n",
      "                                        LLR p-value:                     0.000\n",
      "===============================================================================\n",
      "                  coef    std err          z      P>|z|      [0.025      0.975]\n",
      "-------------------------------------------------------------------------------\n",
      "shar            0.1843      0.016     11.667      0.000       0.153       0.215\n",
      "intel           0.1246      0.024      5.279      0.000       0.078       0.171\n",
      "fun             0.3256      0.020     16.146      0.000       0.286       0.365\n",
      "amb            -0.1882      0.021     -9.016      0.000      -0.229      -0.147\n",
      "sinc5_3        -0.0604      0.034     -1.774      0.076      -0.127       0.006\n",
      "attr            0.2940      0.017     17.375      0.000       0.261       0.327\n",
      "gender         -0.7336      0.048    -15.155      0.000      -0.828      -0.639\n",
      "age_o          -0.0221      0.007     -3.190      0.001      -0.036      -0.009\n",
      "log_tuition     0.6862      0.089      7.668      0.000       0.511       0.862\n",
      "const         -10.5167      0.970    -10.844      0.000     -12.418      -8.616\n",
      "===============================================================================\n",
      "Optimization terminated successfully.\n",
      "         Current function value: 0.561664\n",
      "         Iterations 6\n",
      "                           Logit Regression Results                           \n",
      "==============================================================================\n",
      "Dep. Variable:                  match   No. Observations:                 9820\n",
      "Model:                          Logit   Df Residuals:                     9810\n",
      "Method:                           MLE   Df Model:                            9\n",
      "Date:                Wed, 26 Aug 2020   Pseudo R-squ.:                  0.1897\n",
      "Time:                        18:59:57   Log-Likelihood:                -5515.5\n",
      "converged:                       True   LL-Null:                       -6806.7\n",
      "                                        LLR p-value:                     0.000\n",
      "===============================================================================\n",
      "                  coef    std err          z      P>|z|      [0.025      0.975]\n",
      "-------------------------------------------------------------------------------\n",
      "shar            0.1843      0.016     11.667      0.000       0.153       0.215\n",
      "intel           0.1246      0.024      5.279      0.000       0.078       0.171\n",
      "fun             0.3256      0.020     16.146      0.000       0.286       0.365\n",
      "amb            -0.1882      0.021     -9.016      0.000      -0.229      -0.147\n",
      "sinc5_3        -0.0604      0.034     -1.774      0.076      -0.127       0.006\n",
      "attr            0.2940      0.017     17.375      0.000       0.261       0.327\n",
      "gender         -0.7336      0.048    -15.155      0.000      -0.828      -0.639\n",
      "age_o          -0.0221      0.007     -3.190      0.001      -0.036      -0.009\n",
      "log_tuition     0.6862      0.089      7.668      0.000       0.511       0.862\n",
      "const         -10.5167      0.970    -10.844      0.000     -12.418      -8.616\n",
      "===============================================================================\n"
     ]
    }
   ],
   "source": [
    "\n",
    "\n",
    "X=os_data_X\n",
    "y=os_data_y\n",
    "\n",
    "import statsmodels.api as sm\n",
    "logit_model=sm.Logit(y,X)\n",
    "result=logit_model.fit(maxiter=1000)\n",
    "print(result.summary())\n",
    "X.head()\n",
    "import statsmodels.api as sm\n",
    "logit_model=sm.Logit(y,X)\n",
    "result=logit_model.fit(maxiter=1000)\n",
    "print(result.summary())"
   ]
  },
  {
   "cell_type": "code",
   "execution_count": 38,
   "metadata": {},
   "outputs": [
    {
     "name": "stdout",
     "output_type": "stream",
     "text": [
      "Accuracy of logistic regression classifier on test set: 0.71\n"
     ]
    }
   ],
   "source": [
    "X_train, X_test, y_train, y_test = train_test_split(X, y, test_size=0.3, random_state=0)\n",
    "logreg = LogisticRegression( max_iter=1000)\n",
    "logreg.fit(X_train, y_train.values.ravel())\n",
    "y_pred = logreg.predict(X_test)\n",
    "print('Accuracy of logistic regression classifier on test set: {:.2f}'.format(logreg.score(X_test, y_test)))\n"
   ]
  },
  {
   "cell_type": "code",
   "execution_count": 39,
   "metadata": {},
   "outputs": [
    {
     "name": "stderr",
     "output_type": "stream",
     "text": [
      "C:\\Users\\rudym\\Anaconda3\\lib\\site-packages\\sklearn\\utils\\validation.py:71: FutureWarning: Pass n_features_to_select=20 as keyword args. From version 0.25 passing these as positional arguments will result in an error\n",
      "  FutureWarning)\n"
     ]
    },
    {
     "name": "stdout",
     "output_type": "stream",
     "text": [
      "[ True  True  True  True  True  True  True  True  True  True]\n",
      "[1 1 1 1 1 1 1 1 1 1]\n"
     ]
    }
   ],
   "source": [
    "data_final_vars=X.columns.values.tolist()\n",
    "y=['match']\n",
    "X=[i for i in data_final_vars if i not in y]\n",
    "from sklearn.feature_selection import RFE\n",
    "from sklearn.linear_model import LogisticRegression\n",
    "logreg_2 = LogisticRegression( max_iter=1000)\n",
    "rfe = RFE(logreg_2, 20)\n",
    "rfe = rfe.fit(os_data_X, os_data_y.values.ravel())\n",
    "print(rfe.support_)\n",
    "print(rfe.ranking_)"
   ]
  },
  {
   "cell_type": "code",
   "execution_count": 40,
   "metadata": {},
   "outputs": [
    {
     "name": "stdout",
     "output_type": "stream",
     "text": [
      "[[1007  456]\n",
      " [ 407 1076]]\n"
     ]
    }
   ],
   "source": [
    "\n",
    "from sklearn.metrics import confusion_matrix\n",
    "confusion_matrix = confusion_matrix(y_test, y_pred)\n",
    "print(confusion_matrix)"
   ]
  },
  {
   "cell_type": "code",
   "execution_count": 41,
   "metadata": {},
   "outputs": [
    {
     "name": "stdout",
     "output_type": "stream",
     "text": [
      "              precision    recall  f1-score   support\n",
      "\n",
      "           0       0.71      0.69      0.70      1463\n",
      "           1       0.70      0.73      0.71      1483\n",
      "\n",
      "    accuracy                           0.71      2946\n",
      "   macro avg       0.71      0.71      0.71      2946\n",
      "weighted avg       0.71      0.71      0.71      2946\n",
      "\n"
     ]
    }
   ],
   "source": [
    "from sklearn.metrics import classification_report\n",
    "print(classification_report(y_test, y_pred))"
   ]
  },
  {
   "cell_type": "code",
   "execution_count": 42,
   "metadata": {},
   "outputs": [
    {
     "data": {
      "text/plain": [
       "'The r-squared score for your model was -0.1718123236737712 on 2946 values.'"
      ]
     },
     "execution_count": 42,
     "metadata": {},
     "output_type": "execute_result"
    }
   ],
   "source": [
    "\n",
    "rsquared_score = r2_score(y_test, y_pred)\n",
    "length_y_test = len(y_test)\n",
    "\"The r-squared score for your model was {} on {} values.\".format(rsquared_score, length_y_test)\n"
   ]
  },
  {
   "cell_type": "code",
   "execution_count": null,
   "metadata": {},
   "outputs": [],
   "source": []
  },
  {
   "cell_type": "code",
   "execution_count": 43,
   "metadata": {},
   "outputs": [
    {
     "data": {
      "image/png": "[encoded data removed]",
      "text/plain": [
       "<Figure size 432x288 with 1 Axes>"
      ]
     },
     "metadata": {
      "needs_background": "light"
     },
     "output_type": "display_data"
    }
   ],
   "source": [
    "from sklearn.metrics import roc_auc_score\n",
    "from sklearn.metrics import roc_curve\n",
    "logit_roc_auc = roc_auc_score(y_test, logreg.predict(X_test))\n",
    "fpr, tpr, thresholds = roc_curve(y_test, logreg.predict_proba(X_test)[:,1])\n",
    "plt.figure()\n",
    "plt.plot(fpr, tpr, label='Logistic Regression (area = %0.2f)' % logit_roc_auc)\n",
    "plt.plot([0, 1], [0, 1],'r--')\n",
    "plt.xlim([0.0, 1.0])\n",
    "plt.ylim([0.0, 1.05])\n",
    "plt.xlabel('False Positive Rate')\n",
    "plt.ylabel('True Positive Rate')\n",
    "plt.title('Receiver operating characteristic')\n",
    "plt.legend(loc=\"lower right\")\n",
    "plt.savefig('Log_ROC')\n",
    "plt.show()"
   ]
  },
  {
   "cell_type": "markdown",
   "metadata": {},
   "source": [
    "# Here we improved to 71%"
   ]
  }
 ],
 "metadata": {
  "kernelspec": {
   "display_name": "Python 3",
   "language": "python",
   "name": "python3"
  },
  "language_info": {
   "codemirror_mode": {
    "name": "ipython",
    "version": 3
   },
   "file_extension": ".py",
   "mimetype": "text/x-python",
   "name": "python",
   "nbconvert_exporter": "python",
   "pygments_lexer": "ipython3",
   "version": "3.7.3"
  }
 },
 "nbformat": 4,
 "nbformat_minor": 2
}
